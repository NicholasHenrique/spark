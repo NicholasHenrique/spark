{
  "cells": [
    {
      "cell_type": "markdown",
      "metadata": {
        "id": "pd_6p0z4HPEy"
      },
      "source": [
        "### Instalação do Spark"
      ]
    },
    {
      "cell_type": "code",
      "execution_count": null,
      "metadata": {
        "id": "iQ241j2-YwSC"
      },
      "outputs": [],
      "source": [
        "!wget -q http://archive.apache.org/dist/spark/spark-3.2.2/spark-3.2.2-bin-hadoop2.7.tgz\n",
        "!tar -zxf spark-3.2.2-bin-hadoop2.7.tgz\n",
        "!pip install -q findspark"
      ]
    },
    {
      "cell_type": "code",
      "execution_count": null,
      "metadata": {
        "id": "NFy7NFnKZlx0"
      },
      "outputs": [],
      "source": [
        "import os\n",
        "os.environ[\"JAVA_HOME\"] = \"/usr/lib/jvm/java-11-openjdk-amd64\"\n",
        "os.environ[\"SPARK_HOME\"] = \"/content/spark-3.2.2-bin-hadoop2.7\""
      ]
    },
    {
      "cell_type": "code",
      "execution_count": null,
      "metadata": {
        "id": "XrQWdrVLaqUB"
      },
      "outputs": [],
      "source": [
        "import findspark\n",
        "findspark.init()"
      ]
    },
    {
      "cell_type": "markdown",
      "metadata": {
        "id": "OxvaIAH0HUnv"
      },
      "source": [
        "### Criação do Spark"
      ]
    },
    {
      "cell_type": "code",
      "execution_count": null,
      "metadata": {
        "id": "MUpAVPpZc7WC"
      },
      "outputs": [],
      "source": [
        "from pyspark.sql import SparkSession\n",
        "\n",
        "spark = SparkSession.builder \\\n",
        "    .master('local[*]') \\\n",
        "    .config('spark.ui.port', '4050') \\\n",
        "    .getOrCreate()"
      ]
    },
    {
      "cell_type": "markdown",
      "metadata": {
        "id": "fIo6gztEHXqc"
      },
      "source": [
        "#### Somente necessário para o Colab já que não é possível acessar o localhost criado pelo Spark"
      ]
    },
    {
      "cell_type": "code",
      "execution_count": null,
      "metadata": {
        "colab": {
          "base_uri": "https://localhost:8080/"
        },
        "id": "xuv_dzxgeNdY",
        "outputId": "74cc8779-42b3-4323-ba45-195dd87a441a"
      },
      "outputs": [
        {
          "output_type": "stream",
          "name": "stdout",
          "text": [
            "Archive:  ngrok-v3-stable-linux-amd64.zip\n",
            "  inflating: ngrok                   \n"
          ]
        }
      ],
      "source": [
        "!wget -q https://bin.equinox.io/c/bNyj1mQVY4c/ngrok-v3-stable-linux-amd64.zip\n",
        "!unzip ngrok-v3-stable-linux-amd64.zip"
      ]
    },
    {
      "cell_type": "code",
      "execution_count": null,
      "metadata": {
        "id": "FjnI1xtPeOJa",
        "colab": {
          "base_uri": "https://localhost:8080/"
        },
        "outputId": "88b1524b-3b2a-47fe-c0e3-34565c92d960"
      },
      "outputs": [
        {
          "output_type": "stream",
          "name": "stderr",
          "text": [
            "\n",
            "KeyboardInterrupt\n",
            "\n"
          ]
        }
      ],
      "source": [
        "get_ipython().system_raw('./ngrok authtoken {}')\n",
        "get_ipython().system_raw('./ngrok http 4050 &')"
      ]
    },
    {
      "cell_type": "code",
      "execution_count": null,
      "metadata": {
        "colab": {
          "base_uri": "https://localhost:8080/"
        },
        "id": "SwqOyyb0eVyq",
        "outputId": "0c302385-6cd4-496e-e76b-be50c4cc196a"
      },
      "outputs": [
        {
          "output_type": "stream",
          "name": "stdout",
          "text": [
            "{\"tunnels\":[],\"uri\":\"/api/tunnels\"}\n"
          ]
        }
      ],
      "source": [
        "!curl -s http://localhost:4040/api/tunnels"
      ]
    },
    {
      "cell_type": "markdown",
      "metadata": {
        "id": "SVlvItxNHjfL"
      },
      "source": [
        "### Exemplo - Criação de DataFrame"
      ]
    },
    {
      "cell_type": "code",
      "execution_count": null,
      "metadata": {
        "colab": {
          "base_uri": "https://localhost:8080/"
        },
        "id": "WYKu8BQ58lgd",
        "outputId": "093e400c-2af1-47d2-b239-41f3fbf1675c"
      },
      "outputs": [
        {
          "data": {
            "text/plain": [
              "DataFrame[Nome: string, Idade: bigint]"
            ]
          },
          "execution_count": 8,
          "metadata": {},
          "output_type": "execute_result"
        }
      ],
      "source": [
        "data = [('Lucio', 44), ('Maria', 22)] # [{'Nome': 'Zeca', 'Idade': '35'}, {'Nome': 'Eva', 'Idade': '29'}]\n",
        "col = ['Nome', 'Idade']\n",
        "df = spark.createDataFrame(data, col)\n",
        "df"
      ]
    },
    {
      "cell_type": "code",
      "execution_count": null,
      "metadata": {
        "colab": {
          "base_uri": "https://localhost:8080/"
        },
        "id": "T9k3eZ5583FX",
        "outputId": "1abf45cc-e305-4233-8594-7c3c38adc355"
      },
      "outputs": [
        {
          "name": "stdout",
          "output_type": "stream",
          "text": [
            "+-----+-----+\n",
            "| Nome|Idade|\n",
            "+-----+-----+\n",
            "|Lucio|   44|\n",
            "|Maria|   22|\n",
            "+-----+-----+\n",
            "\n"
          ]
        }
      ],
      "source": [
        "df.show()"
      ]
    },
    {
      "cell_type": "code",
      "execution_count": null,
      "metadata": {
        "colab": {
          "base_uri": "https://localhost:8080/",
          "height": 112
        },
        "id": "pX-h-CTb856a",
        "outputId": "6a9312de-46d2-4d66-fc33-e6755cad1478"
      },
      "outputs": [
        {
          "data": {
            "text/html": [
              "\n",
              "  <div id=\"df-f5ad84a5-61d4-499f-923f-3925c6db43bb\">\n",
              "    <div class=\"colab-df-container\">\n",
              "      <div>\n",
              "<style scoped>\n",
              "    .dataframe tbody tr th:only-of-type {\n",
              "        vertical-align: middle;\n",
              "    }\n",
              "\n",
              "    .dataframe tbody tr th {\n",
              "        vertical-align: top;\n",
              "    }\n",
              "\n",
              "    .dataframe thead th {\n",
              "        text-align: right;\n",
              "    }\n",
              "</style>\n",
              "<table border=\"1\" class=\"dataframe\">\n",
              "  <thead>\n",
              "    <tr style=\"text-align: right;\">\n",
              "      <th></th>\n",
              "      <th>Nome</th>\n",
              "      <th>Idade</th>\n",
              "    </tr>\n",
              "  </thead>\n",
              "  <tbody>\n",
              "    <tr>\n",
              "      <th>0</th>\n",
              "      <td>Lucio</td>\n",
              "      <td>44</td>\n",
              "    </tr>\n",
              "    <tr>\n",
              "      <th>1</th>\n",
              "      <td>Maria</td>\n",
              "      <td>22</td>\n",
              "    </tr>\n",
              "  </tbody>\n",
              "</table>\n",
              "</div>\n",
              "      <button class=\"colab-df-convert\" onclick=\"convertToInteractive('df-f5ad84a5-61d4-499f-923f-3925c6db43bb')\"\n",
              "              title=\"Convert this dataframe to an interactive table.\"\n",
              "              style=\"display:none;\">\n",
              "        \n",
              "  <svg xmlns=\"http://www.w3.org/2000/svg\" height=\"24px\"viewBox=\"0 0 24 24\"\n",
              "       width=\"24px\">\n",
              "    <path d=\"M0 0h24v24H0V0z\" fill=\"none\"/>\n",
              "    <path d=\"M18.56 5.44l.94 2.06.94-2.06 2.06-.94-2.06-.94-.94-2.06-.94 2.06-2.06.94zm-11 1L8.5 8.5l.94-2.06 2.06-.94-2.06-.94L8.5 2.5l-.94 2.06-2.06.94zm10 10l.94 2.06.94-2.06 2.06-.94-2.06-.94-.94-2.06-.94 2.06-2.06.94z\"/><path d=\"M17.41 7.96l-1.37-1.37c-.4-.4-.92-.59-1.43-.59-.52 0-1.04.2-1.43.59L10.3 9.45l-7.72 7.72c-.78.78-.78 2.05 0 2.83L4 21.41c.39.39.9.59 1.41.59.51 0 1.02-.2 1.41-.59l7.78-7.78 2.81-2.81c.8-.78.8-2.07 0-2.86zM5.41 20L4 18.59l7.72-7.72 1.47 1.35L5.41 20z\"/>\n",
              "  </svg>\n",
              "      </button>\n",
              "      \n",
              "  <style>\n",
              "    .colab-df-container {\n",
              "      display:flex;\n",
              "      flex-wrap:wrap;\n",
              "      gap: 12px;\n",
              "    }\n",
              "\n",
              "    .colab-df-convert {\n",
              "      background-color: #E8F0FE;\n",
              "      border: none;\n",
              "      border-radius: 50%;\n",
              "      cursor: pointer;\n",
              "      display: none;\n",
              "      fill: #1967D2;\n",
              "      height: 32px;\n",
              "      padding: 0 0 0 0;\n",
              "      width: 32px;\n",
              "    }\n",
              "\n",
              "    .colab-df-convert:hover {\n",
              "      background-color: #E2EBFA;\n",
              "      box-shadow: 0px 1px 2px rgba(60, 64, 67, 0.3), 0px 1px 3px 1px rgba(60, 64, 67, 0.15);\n",
              "      fill: #174EA6;\n",
              "    }\n",
              "\n",
              "    [theme=dark] .colab-df-convert {\n",
              "      background-color: #3B4455;\n",
              "      fill: #D2E3FC;\n",
              "    }\n",
              "\n",
              "    [theme=dark] .colab-df-convert:hover {\n",
              "      background-color: #434B5C;\n",
              "      box-shadow: 0px 1px 3px 1px rgba(0, 0, 0, 0.15);\n",
              "      filter: drop-shadow(0px 1px 2px rgba(0, 0, 0, 0.3));\n",
              "      fill: #FFFFFF;\n",
              "    }\n",
              "  </style>\n",
              "\n",
              "      <script>\n",
              "        const buttonEl =\n",
              "          document.querySelector('#df-f5ad84a5-61d4-499f-923f-3925c6db43bb button.colab-df-convert');\n",
              "        buttonEl.style.display =\n",
              "          google.colab.kernel.accessAllowed ? 'block' : 'none';\n",
              "\n",
              "        async function convertToInteractive(key) {\n",
              "          const element = document.querySelector('#df-f5ad84a5-61d4-499f-923f-3925c6db43bb');\n",
              "          const dataTable =\n",
              "            await google.colab.kernel.invokeFunction('convertToInteractive',\n",
              "                                                     [key], {});\n",
              "          if (!dataTable) return;\n",
              "\n",
              "          const docLinkHtml = 'Like what you see? Visit the ' +\n",
              "            '<a target=\"_blank\" href=https://colab.research.google.com/notebooks/data_table.ipynb>data table notebook</a>'\n",
              "            + ' to learn more about interactive tables.';\n",
              "          element.innerHTML = '';\n",
              "          dataTable['output_type'] = 'display_data';\n",
              "          await google.colab.output.renderOutput(dataTable, element);\n",
              "          const docLink = document.createElement('div');\n",
              "          docLink.innerHTML = docLinkHtml;\n",
              "          element.appendChild(docLink);\n",
              "        }\n",
              "      </script>\n",
              "    </div>\n",
              "  </div>\n",
              "  "
            ],
            "text/plain": [
              "    Nome  Idade\n",
              "0  Lucio     44\n",
              "1  Maria     22"
            ]
          },
          "execution_count": 10,
          "metadata": {},
          "output_type": "execute_result"
        }
      ],
      "source": [
        "df.toPandas()"
      ]
    },
    {
      "cell_type": "markdown",
      "metadata": {
        "id": "_gMVNtcvWbT0"
      },
      "source": [
        "### Carregamento dos dados"
      ]
    },
    {
      "cell_type": "code",
      "execution_count": null,
      "metadata": {
        "colab": {
          "base_uri": "https://localhost:8080/"
        },
        "id": "YGQD9VfsGO_8",
        "outputId": "64ad0956-b87e-4086-d91e-b18161770db9"
      },
      "outputs": [
        {
          "output_type": "stream",
          "name": "stdout",
          "text": [
            "Downloading...\n",
            "From: https://drive.google.com/uc?id=1jkLy51Q26vjN8j0wWnXYASI_0HdvWjjC\n",
            "To: /content/Socios0.zip\n",
            "100% 87.1M/87.1M [00:00<00:00, 154MB/s]\n",
            "Downloading...\n",
            "From: https://drive.google.com/uc?id=1lHyKFbbM-NI6SoUuNxy_LifT6kho09oi\n",
            "To: /content/Empresas0.zip\n",
            "100% 198M/198M [00:01<00:00, 125MB/s]\n",
            "Downloading...\n",
            "From: https://drive.google.com/uc?id=1CED5m2q9P3NNyL36MuE16_eiZ02cteOW\n",
            "To: /content/Estabelecimentos0.zip\n",
            "100% 763M/763M [00:05<00:00, 137MB/s]\n"
          ]
        }
      ],
      "source": [
        "# !wget http://200.152.38.155/CNPJ/Empresas0.zip\n",
        "!gdown https://drive.google.com/uc?id=1jkLy51Q26vjN8j0wWnXYASI_0HdvWjjC\n",
        "!gdown https://drive.google.com/uc?id=1lHyKFbbM-NI6SoUuNxy_LifT6kho09oi\n",
        "!gdown https://drive.google.com/uc?id=1CED5m2q9P3NNyL36MuE16_eiZ02cteOW"
      ]
    },
    {
      "cell_type": "code",
      "execution_count": null,
      "metadata": {
        "id": "rnOvnj96GU_R"
      },
      "outputs": [],
      "source": [
        "!unzip -qo Empresas0.zip -d \"/content/empresas/\"\n",
        "!unzip -qo Socios0.zip -d \"/content/socios/\"\n",
        "!unzip -qo Estabelecimentos0.zip -d \"/content/estabelecimentos/\""
      ]
    },
    {
      "cell_type": "markdown",
      "metadata": {
        "id": "o7eTolRBWfZ1"
      },
      "source": [
        "### Criação do DataFrame"
      ]
    },
    {
      "cell_type": "code",
      "execution_count": null,
      "metadata": {
        "id": "FVShpzM5WV5o"
      },
      "outputs": [],
      "source": [
        "path = '/content/empresas'\n",
        "empresas = spark.read.csv(path, sep=';', inferSchema=True)"
      ]
    },
    {
      "cell_type": "code",
      "execution_count": null,
      "metadata": {
        "colab": {
          "base_uri": "https://localhost:8080/",
          "height": 206
        },
        "id": "r5WnLeFGWphJ",
        "outputId": "ffae8716-74f0-4143-deb6-df366d3b0ec5"
      },
      "outputs": [
        {
          "output_type": "execute_result",
          "data": {
            "text/plain": [
              "        _c0                                          _c1   _c2  _c3       _c4  \\\n",
              "0  41273600  AVANILSON BRUNO MATIAS DA SILVA 08778601495  2135   50  50000,00   \n",
              "1  41273601  GABRIELA HELENA FACINI DA SILVA 47022415838  2135   50   2000,00   \n",
              "2  41273602           FABIO SOUZA DO ROSARIO 80392440210  2135   50  15000,00   \n",
              "3  41273603           GRAFLINE ACESSORIOS  GRAFICOS LTDA  2062   49  10000,00   \n",
              "4  41273604                 RUMO - ESTUDIO DE DANCA LTDA  2062   49  10000,00   \n",
              "\n",
              "   _c5   _c6  \n",
              "0    1  None  \n",
              "1    1  None  \n",
              "2    1  None  \n",
              "3    1  None  \n",
              "4    1  None  "
            ],
            "text/html": [
              "\n",
              "  <div id=\"df-5c269aff-fb36-4016-824d-4cfb8e6f2c13\">\n",
              "    <div class=\"colab-df-container\">\n",
              "      <div>\n",
              "<style scoped>\n",
              "    .dataframe tbody tr th:only-of-type {\n",
              "        vertical-align: middle;\n",
              "    }\n",
              "\n",
              "    .dataframe tbody tr th {\n",
              "        vertical-align: top;\n",
              "    }\n",
              "\n",
              "    .dataframe thead th {\n",
              "        text-align: right;\n",
              "    }\n",
              "</style>\n",
              "<table border=\"1\" class=\"dataframe\">\n",
              "  <thead>\n",
              "    <tr style=\"text-align: right;\">\n",
              "      <th></th>\n",
              "      <th>_c0</th>\n",
              "      <th>_c1</th>\n",
              "      <th>_c2</th>\n",
              "      <th>_c3</th>\n",
              "      <th>_c4</th>\n",
              "      <th>_c5</th>\n",
              "      <th>_c6</th>\n",
              "    </tr>\n",
              "  </thead>\n",
              "  <tbody>\n",
              "    <tr>\n",
              "      <th>0</th>\n",
              "      <td>41273600</td>\n",
              "      <td>AVANILSON BRUNO MATIAS DA SILVA 08778601495</td>\n",
              "      <td>2135</td>\n",
              "      <td>50</td>\n",
              "      <td>50000,00</td>\n",
              "      <td>1</td>\n",
              "      <td>None</td>\n",
              "    </tr>\n",
              "    <tr>\n",
              "      <th>1</th>\n",
              "      <td>41273601</td>\n",
              "      <td>GABRIELA HELENA FACINI DA SILVA 47022415838</td>\n",
              "      <td>2135</td>\n",
              "      <td>50</td>\n",
              "      <td>2000,00</td>\n",
              "      <td>1</td>\n",
              "      <td>None</td>\n",
              "    </tr>\n",
              "    <tr>\n",
              "      <th>2</th>\n",
              "      <td>41273602</td>\n",
              "      <td>FABIO SOUZA DO ROSARIO 80392440210</td>\n",
              "      <td>2135</td>\n",
              "      <td>50</td>\n",
              "      <td>15000,00</td>\n",
              "      <td>1</td>\n",
              "      <td>None</td>\n",
              "    </tr>\n",
              "    <tr>\n",
              "      <th>3</th>\n",
              "      <td>41273603</td>\n",
              "      <td>GRAFLINE ACESSORIOS  GRAFICOS LTDA</td>\n",
              "      <td>2062</td>\n",
              "      <td>49</td>\n",
              "      <td>10000,00</td>\n",
              "      <td>1</td>\n",
              "      <td>None</td>\n",
              "    </tr>\n",
              "    <tr>\n",
              "      <th>4</th>\n",
              "      <td>41273604</td>\n",
              "      <td>RUMO - ESTUDIO DE DANCA LTDA</td>\n",
              "      <td>2062</td>\n",
              "      <td>49</td>\n",
              "      <td>10000,00</td>\n",
              "      <td>1</td>\n",
              "      <td>None</td>\n",
              "    </tr>\n",
              "  </tbody>\n",
              "</table>\n",
              "</div>\n",
              "      <button class=\"colab-df-convert\" onclick=\"convertToInteractive('df-5c269aff-fb36-4016-824d-4cfb8e6f2c13')\"\n",
              "              title=\"Convert this dataframe to an interactive table.\"\n",
              "              style=\"display:none;\">\n",
              "        \n",
              "  <svg xmlns=\"http://www.w3.org/2000/svg\" height=\"24px\"viewBox=\"0 0 24 24\"\n",
              "       width=\"24px\">\n",
              "    <path d=\"M0 0h24v24H0V0z\" fill=\"none\"/>\n",
              "    <path d=\"M18.56 5.44l.94 2.06.94-2.06 2.06-.94-2.06-.94-.94-2.06-.94 2.06-2.06.94zm-11 1L8.5 8.5l.94-2.06 2.06-.94-2.06-.94L8.5 2.5l-.94 2.06-2.06.94zm10 10l.94 2.06.94-2.06 2.06-.94-2.06-.94-.94-2.06-.94 2.06-2.06.94z\"/><path d=\"M17.41 7.96l-1.37-1.37c-.4-.4-.92-.59-1.43-.59-.52 0-1.04.2-1.43.59L10.3 9.45l-7.72 7.72c-.78.78-.78 2.05 0 2.83L4 21.41c.39.39.9.59 1.41.59.51 0 1.02-.2 1.41-.59l7.78-7.78 2.81-2.81c.8-.78.8-2.07 0-2.86zM5.41 20L4 18.59l7.72-7.72 1.47 1.35L5.41 20z\"/>\n",
              "  </svg>\n",
              "      </button>\n",
              "      \n",
              "  <style>\n",
              "    .colab-df-container {\n",
              "      display:flex;\n",
              "      flex-wrap:wrap;\n",
              "      gap: 12px;\n",
              "    }\n",
              "\n",
              "    .colab-df-convert {\n",
              "      background-color: #E8F0FE;\n",
              "      border: none;\n",
              "      border-radius: 50%;\n",
              "      cursor: pointer;\n",
              "      display: none;\n",
              "      fill: #1967D2;\n",
              "      height: 32px;\n",
              "      padding: 0 0 0 0;\n",
              "      width: 32px;\n",
              "    }\n",
              "\n",
              "    .colab-df-convert:hover {\n",
              "      background-color: #E2EBFA;\n",
              "      box-shadow: 0px 1px 2px rgba(60, 64, 67, 0.3), 0px 1px 3px 1px rgba(60, 64, 67, 0.15);\n",
              "      fill: #174EA6;\n",
              "    }\n",
              "\n",
              "    [theme=dark] .colab-df-convert {\n",
              "      background-color: #3B4455;\n",
              "      fill: #D2E3FC;\n",
              "    }\n",
              "\n",
              "    [theme=dark] .colab-df-convert:hover {\n",
              "      background-color: #434B5C;\n",
              "      box-shadow: 0px 1px 3px 1px rgba(0, 0, 0, 0.15);\n",
              "      filter: drop-shadow(0px 1px 2px rgba(0, 0, 0, 0.3));\n",
              "      fill: #FFFFFF;\n",
              "    }\n",
              "  </style>\n",
              "\n",
              "      <script>\n",
              "        const buttonEl =\n",
              "          document.querySelector('#df-5c269aff-fb36-4016-824d-4cfb8e6f2c13 button.colab-df-convert');\n",
              "        buttonEl.style.display =\n",
              "          google.colab.kernel.accessAllowed ? 'block' : 'none';\n",
              "\n",
              "        async function convertToInteractive(key) {\n",
              "          const element = document.querySelector('#df-5c269aff-fb36-4016-824d-4cfb8e6f2c13');\n",
              "          const dataTable =\n",
              "            await google.colab.kernel.invokeFunction('convertToInteractive',\n",
              "                                                     [key], {});\n",
              "          if (!dataTable) return;\n",
              "\n",
              "          const docLinkHtml = 'Like what you see? Visit the ' +\n",
              "            '<a target=\"_blank\" href=https://colab.research.google.com/notebooks/data_table.ipynb>data table notebook</a>'\n",
              "            + ' to learn more about interactive tables.';\n",
              "          element.innerHTML = '';\n",
              "          dataTable['output_type'] = 'display_data';\n",
              "          await google.colab.output.renderOutput(dataTable, element);\n",
              "          const docLink = document.createElement('div');\n",
              "          docLink.innerHTML = docLinkHtml;\n",
              "          element.appendChild(docLink);\n",
              "        }\n",
              "      </script>\n",
              "    </div>\n",
              "  </div>\n",
              "  "
            ]
          },
          "metadata": {},
          "execution_count": 13
        }
      ],
      "source": [
        "empresas.limit(5).toPandas()"
      ]
    },
    {
      "cell_type": "markdown",
      "metadata": {
        "id": "p7GlozI2bqTt"
      },
      "source": [
        "### Mudança dos nomes das colunas e seus tipos"
      ]
    },
    {
      "cell_type": "code",
      "execution_count": null,
      "metadata": {
        "colab": {
          "base_uri": "https://localhost:8080/"
        },
        "id": "2P0dxLoyXa05",
        "outputId": "18b27435-e502-4b2c-8d4d-fbae290e4721"
      },
      "outputs": [
        {
          "output_type": "execute_result",
          "data": {
            "text/plain": [
              "['CNPJ',\n",
              " 'NOME_EMPRESARIAL',\n",
              " 'NATUREZA_JURIDICA',\n",
              " 'QUALIFICACAO_RESPONSAVEL',\n",
              " 'CAPITAL_SOCIAL',\n",
              " 'PORTE_EMPRESA',\n",
              " 'ENTE_FEDERATIVO']"
            ]
          },
          "metadata": {},
          "execution_count": 14
        }
      ],
      "source": [
        "cols = [\"CNPJ\", \"NOME_EMPRESARIAL\", \"NATUREZA_JURIDICA\", \"QUALIFICACAO_RESPONSAVEL\", \"CAPITAL_SOCIAL\", \"PORTE_EMPRESA\", \"ENTE_FEDERATIVO\"]\n",
        "\"\"\"\n",
        "for id, col in enumerate(cols):\n",
        "  empresas = empresas.withColumnRenamed(f\"_c{id}\", col)\n",
        "empresas.columns\n",
        "\"\"\"\n",
        "\n",
        "# tambem funciona\n",
        "empresas = empresas.toDF(*cols)\n",
        "empresas.columns"
      ]
    },
    {
      "cell_type": "code",
      "execution_count": null,
      "metadata": {
        "colab": {
          "base_uri": "https://localhost:8080/"
        },
        "id": "LJGM6lYoZuGX",
        "outputId": "0f153585-45d2-4543-cd47-8a38965f929f"
      },
      "outputs": [
        {
          "output_type": "stream",
          "name": "stdout",
          "text": [
            "root\n",
            " |-- CNPJ: integer (nullable = true)\n",
            " |-- NOME_EMPRESARIAL: string (nullable = true)\n",
            " |-- NATUREZA_JURIDICA: integer (nullable = true)\n",
            " |-- QUALIFICACAO_RESPONSAVEL: integer (nullable = true)\n",
            " |-- CAPITAL_SOCIAL: string (nullable = true)\n",
            " |-- PORTE_EMPRESA: integer (nullable = true)\n",
            " |-- ENTE_FEDERATIVO: string (nullable = true)\n",
            "\n"
          ]
        }
      ],
      "source": [
        "empresas.printSchema()"
      ]
    },
    {
      "cell_type": "code",
      "execution_count": null,
      "metadata": {
        "id": "el8i_KRYb-Vl"
      },
      "outputs": [],
      "source": [
        "from pyspark.sql.types import DoubleType\n",
        "from pyspark.sql import functions as f"
      ]
    },
    {
      "cell_type": "markdown",
      "source": [
        "Alteração da representação da casa decimal de ',' para '.' na coluna 'CAPITAL_SOCIAL':"
      ],
      "metadata": {
        "id": "J-FX-fs0VQd6"
      }
    },
    {
      "cell_type": "code",
      "execution_count": null,
      "metadata": {
        "colab": {
          "base_uri": "https://localhost:8080/"
        },
        "id": "dMdcYsj-bpUM",
        "outputId": "75da3108-5b4d-4a78-8680-a7db1b37f745"
      },
      "outputs": [
        {
          "output_type": "stream",
          "name": "stdout",
          "text": [
            "root\n",
            " |-- CNPJ: integer (nullable = true)\n",
            " |-- NOME_EMPRESARIAL: string (nullable = true)\n",
            " |-- NATUREZA_JURIDICA: integer (nullable = true)\n",
            " |-- QUALIFICACAO_RESPONSAVEL: integer (nullable = true)\n",
            " |-- CAPITAL_SOCIAL: string (nullable = true)\n",
            " |-- PORTE_EMPRESA: integer (nullable = true)\n",
            " |-- ENTE_FEDERATIVO: string (nullable = true)\n",
            "\n"
          ]
        }
      ],
      "source": [
        "empresas = empresas.withColumn(\"CAPITAL_SOCIAL\", f.regexp_replace(\"CAPITAL_SOCIAL\", \",\", \".\"))\n",
        "empresas.printSchema()"
      ]
    },
    {
      "cell_type": "markdown",
      "source": [
        "Como por conta da vírgula, a coluna 'CAPITAL_SOCIAL' possuía o tipo _string_, após a alteração para ponto, faz-se a modificação do tipo da coluna para _double_:"
      ],
      "metadata": {
        "id": "9IS5-kXBVi-7"
      }
    },
    {
      "cell_type": "code",
      "source": [
        "empresas = empresas.withColumn(\"CAPITAL_SOCIAL\", empresas[\"CAPITAL_SOCIAL\"].cast(DoubleType()))"
      ],
      "metadata": {
        "id": "NczoK4wHy37Q"
      },
      "execution_count": null,
      "outputs": []
    },
    {
      "cell_type": "code",
      "source": [
        "empresas.printSchema()"
      ],
      "metadata": {
        "colab": {
          "base_uri": "https://localhost:8080/"
        },
        "id": "9vQPuTbc17mj",
        "outputId": "b8ab6644-4e75-4bad-f25e-75bf15aafb0e"
      },
      "execution_count": null,
      "outputs": [
        {
          "output_type": "stream",
          "name": "stdout",
          "text": [
            "root\n",
            " |-- CNPJ: integer (nullable = true)\n",
            " |-- NOME_EMPRESARIAL: string (nullable = true)\n",
            " |-- NATUREZA_JURIDICA: integer (nullable = true)\n",
            " |-- QUALIFICACAO_RESPONSAVEL: integer (nullable = true)\n",
            " |-- CAPITAL_SOCIAL: double (nullable = true)\n",
            " |-- PORTE_EMPRESA: integer (nullable = true)\n",
            " |-- ENTE_FEDERATIVO: string (nullable = true)\n",
            "\n"
          ]
        }
      ]
    },
    {
      "cell_type": "markdown",
      "source": [
        "### Consultas no _dataset_"
      ],
      "metadata": {
        "id": "zSdlqnSXXb27"
      }
    },
    {
      "cell_type": "markdown",
      "source": [
        "Contagem de valores nulos por coluna:"
      ],
      "metadata": {
        "id": "rUEdq1L-VImD"
      }
    },
    {
      "cell_type": "code",
      "source": [
        "empresas.select([f.count(f.when(f.isnull(c), 1)).alias(c) for c in empresas.columns]).show()"
      ],
      "metadata": {
        "colab": {
          "base_uri": "https://localhost:8080/"
        },
        "id": "L7ByjfXHwH6o",
        "outputId": "15c6f9a9-8c44-44b5-cc8a-f4cc0ef52c80"
      },
      "execution_count": null,
      "outputs": [
        {
          "output_type": "stream",
          "name": "stdout",
          "text": [
            "+----+----------------+-----------------+------------------------+--------------+-------------+---------------+\n",
            "|CNPJ|NOME_EMPRESARIAL|NATUREZA_JURIDICA|QUALIFICACAO_RESPONSAVEL|CAPITAL_SOCIAL|PORTE_EMPRESA|ENTE_FEDERATIVO|\n",
            "+----+----------------+-----------------+------------------------+--------------+-------------+---------------+\n",
            "|   0|               0|                0|                       0|             0|         7547|       10003709|\n",
            "+----+----------------+-----------------+------------------------+--------------+-------------+---------------+\n",
            "\n"
          ]
        }
      ]
    },
    {
      "cell_type": "markdown",
      "source": [
        "Busca por determinado CNPJ:"
      ],
      "metadata": {
        "id": "kWM-CtnXWB5p"
      }
    },
    {
      "cell_type": "code",
      "source": [
        "empresas.filter(empresas[\"CNPJ\"]==41274130)\\\n",
        "  .show(truncate=False)"
      ],
      "metadata": {
        "colab": {
          "base_uri": "https://localhost:8080/"
        },
        "id": "7n_CbenWzoPt",
        "outputId": "9d67c921-7d1a-40c3-879c-90734130f400"
      },
      "execution_count": null,
      "outputs": [
        {
          "output_type": "stream",
          "name": "stdout",
          "text": [
            "+--------+----------------------------------------+-----------------+------------------------+--------------+-------------+---------------+\n",
            "|CNPJ    |NOME_EMPRESARIAL                        |NATUREZA_JURIDICA|QUALIFICACAO_RESPONSAVEL|CAPITAL_SOCIAL|PORTE_EMPRESA|ENTE_FEDERATIVO|\n",
            "+--------+----------------------------------------+-----------------+------------------------+--------------+-------------+---------------+\n",
            "|41274130|DANIELE MARIA COSTA DA SILVA 10295891432|2135             |50                      |2000.0        |1            |null           |\n",
            "+--------+----------------------------------------+-----------------+------------------------+--------------+-------------+---------------+\n",
            "\n"
          ]
        }
      ]
    },
    {
      "cell_type": "markdown",
      "source": [
        "Contagem da quantidade de empresas por porte da empresa:"
      ],
      "metadata": {
        "id": "-xr3J8p3WR8B"
      }
    },
    {
      "cell_type": "code",
      "source": [
        "empresas.where(empresas.PORTE_EMPRESA==\"null\")\\\n",
        "  .show(truncate=False)"
      ],
      "metadata": {
        "colab": {
          "base_uri": "https://localhost:8080/"
        },
        "id": "JpEIYppV11tN",
        "outputId": "9a72f307-c482-44e1-ff50-282ba897eaa5"
      },
      "execution_count": null,
      "outputs": [
        {
          "output_type": "stream",
          "name": "stdout",
          "text": [
            "+----+----------------+-----------------+------------------------+--------------+-------------+---------------+\n",
            "|CNPJ|NOME_EMPRESARIAL|NATUREZA_JURIDICA|QUALIFICACAO_RESPONSAVEL|CAPITAL_SOCIAL|PORTE_EMPRESA|ENTE_FEDERATIVO|\n",
            "+----+----------------+-----------------+------------------------+--------------+-------------+---------------+\n",
            "+----+----------------+-----------------+------------------------+--------------+-------------+---------------+\n",
            "\n"
          ]
        }
      ]
    },
    {
      "cell_type": "code",
      "source": [
        "empresas\\\n",
        "  .select(\"PORTE_EMPRESA\")\\\n",
        "  .groupBy(\"PORTE_EMPRESA\")\\\n",
        "  .count()\\\n",
        "  .orderBy(\"PORTE_EMPRESA\", ascending=True)\\\n",
        "  .show()"
      ],
      "metadata": {
        "colab": {
          "base_uri": "https://localhost:8080/"
        },
        "id": "VQyMK2RV-Rho",
        "outputId": "4663658e-da2e-466e-97d7-a5d249ee55b5"
      },
      "execution_count": null,
      "outputs": [
        {
          "output_type": "stream",
          "name": "stdout",
          "text": [
            "+-------------+-------+\n",
            "|PORTE_EMPRESA|  count|\n",
            "+-------------+-------+\n",
            "|         null|   7547|\n",
            "|            1|6312640|\n",
            "|            3| 232354|\n",
            "|            5|3458623|\n",
            "+-------------+-------+\n",
            "\n"
          ]
        }
      ]
    },
    {
      "cell_type": "markdown",
      "source": [
        "Média do capital social:"
      ],
      "metadata": {
        "id": "BFFXQBjXWjqf"
      }
    },
    {
      "cell_type": "code",
      "source": [
        "empresas\\\n",
        "  .select(f.avg(\"CAPITAL_SOCIAL\"))\\\n",
        "  .show()"
      ],
      "metadata": {
        "colab": {
          "base_uri": "https://localhost:8080/"
        },
        "id": "Arcv727CBfab",
        "outputId": "41b10b6b-c4ec-47a1-86fc-070cc5818b5c"
      },
      "execution_count": null,
      "outputs": [
        {
          "output_type": "stream",
          "name": "stdout",
          "text": [
            "+-------------------+\n",
            "|avg(CAPITAL_SOCIAL)|\n",
            "+-------------------+\n",
            "|  7699269.441710852|\n",
            "+-------------------+\n",
            "\n"
          ]
        }
      ]
    },
    {
      "cell_type": "markdown",
      "source": [
        "Quantidade de linhas do _dataset_:"
      ],
      "metadata": {
        "id": "OVhHpydnWyPH"
      }
    },
    {
      "cell_type": "code",
      "source": [
        "empresas\\\n",
        "  .count()"
      ],
      "metadata": {
        "colab": {
          "base_uri": "https://localhost:8080/"
        },
        "id": "7Hicn2POBs0f",
        "outputId": "d7fa1e22-2210-41a2-9dfb-76b9dcf8f0c8"
      },
      "execution_count": null,
      "outputs": [
        {
          "output_type": "execute_result",
          "data": {
            "text/plain": [
              "10011164"
            ]
          },
          "metadata": {},
          "execution_count": 36
        }
      ]
    }
  ],
  "metadata": {
    "colab": {
      "provenance": []
    },
    "kernelspec": {
      "display_name": "Python 3",
      "name": "python3"
    },
    "language_info": {
      "name": "python"
    }
  },
  "nbformat": 4,
  "nbformat_minor": 0
}